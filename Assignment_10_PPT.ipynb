{
 "cells": [
  {
   "cell_type": "markdown",
   "id": "f90ec2fd-9cfe-48d4-8188-18c3922f8b63",
   "metadata": {},
   "source": [
    "*Question 1**\n",
    "Given an integer n, return true if it is a power of three. Otherwise, return false.\n",
    "\n",
    "An integer n is a power of three, if there exists an integer x such that n == 3x.\n",
    "\n",
    "Example 1: Input: n = 27 Output: true Explanation: 27 = 33 Example 2:\n",
    "\n",
    "Input: n = 0 Output: false Explanation: There is no x where 3x = 0.\n",
    "\n",
    "Example 3: Input: n = -1 Output: false Explanation: There is no x where 3x = (-1)."
   ]
  },
  {
   "cell_type": "code",
   "execution_count": 1,
   "id": "e77561a2-cbd4-4fad-836a-278d3dda8fc6",
   "metadata": {},
   "outputs": [
    {
     "name": "stdout",
     "output_type": "stream",
     "text": [
      "True\n",
      "False\n",
      "False\n"
     ]
    }
   ],
   "source": [
    "def isPowerOfThree(n):\n",
    "    if n <= 0:\n",
    "        return False\n",
    "    if n == 1:\n",
    "        return True\n",
    "    if n % 3 == 0:\n",
    "        return isPowerOfThree(n // 3)\n",
    "    return False\n",
    "\n",
    "\n",
    "n = 27\n",
    "print(isPowerOfThree(n)) \n",
    "\n",
    "n = 0\n",
    "print(isPowerOfThree(n))  \n",
    "\n",
    "n = -1\n",
    "print(isPowerOfThree(n))  "
   ]
  },
  {
   "cell_type": "markdown",
   "id": "1955a73c-eafb-4038-bbb6-f728046f0179",
   "metadata": {},
   "source": [
    "*Question 2**\n",
    "You have a list arr of all integers in the range [1, n] sorted in a strictly increasing order. Apply the following algorithm on arr:\n",
    "\n",
    "Starting from left to right, remove the first number and every other number afterward until you reach the end of the list.\n",
    "Repeat the previous step again, but this time from right to left, remove the rightmost number and every other number from the remaining numbers.\n",
    "Keep repeating the steps again, alternating left to right and right to left, until a single number remains.\n",
    "Given the integer n, return the last number that remains in arr.\n",
    "\n",
    "Example 1: Input: n = 9 Output: 6 Explanation: arr = [1, 2,3, 4,5, 6,7, 8,9] arr = [2,4, 6,8] arr = [2, 6] arr = [6]\n",
    "\n",
    "Example 2: Input: n = 1 Output: 1"
   ]
  },
  {
   "cell_type": "code",
   "execution_count": 2,
   "id": "9da2e7c4-21c4-426f-a8d4-5b6d3436988e",
   "metadata": {},
   "outputs": [
    {
     "name": "stdout",
     "output_type": "stream",
     "text": [
      "6\n",
      "1\n"
     ]
    }
   ],
   "source": [
    "def lastRemaining(n, leftToRight=True):\n",
    "    if n == 1:\n",
    "        return 1\n",
    "\n",
    "    if leftToRight:\n",
    "        return 2 * lastRemaining(n // 2, False)\n",
    "    else:\n",
    "        if n % 2 == 0:\n",
    "            return 2 * lastRemaining(n // 2, True) - 1\n",
    "        else:\n",
    "            return 2 * lastRemaining(n // 2, True)\n",
    "\n",
    "n = 9\n",
    "print(lastRemaining(n))  \n",
    "\n",
    "n = 1\n",
    "print(lastRemaining(n))  "
   ]
  },
  {
   "cell_type": "markdown",
   "id": "69ff9ed4-dc49-491d-b627-46b4296a86dd",
   "metadata": {},
   "source": [
    "**Question 3**\n",
    "****Given a set represented as a string, write a recursive code to print all subsets of it. The subsets can be printed in any order.\n",
    "\n",
    "Example 1:\n",
    "\n",
    "Input :  set = “abc”\n",
    "\n",
    "Output : { “”, “a”, “b”, “c”, “ab”, “ac”, “bc”, “abc”}\n",
    "\n",
    "Example 2:\n",
    "\n",
    "Input : set = “abcd”\n",
    "\n",
    "Output : { “”, “a” ,”ab” ,”abc” ,”abcd”, “abd” ,”ac” ,”acd”, “ad” ,”b”, “bc” ,”bcd” ,”bd” ,”c” ,”cd” ,”d” }"
   ]
  },
  {
   "cell_type": "code",
   "execution_count": 4,
   "id": "d7855d4c-cc22-4fe3-8589-ed6616a079dc",
   "metadata": {},
   "outputs": [
    {
     "name": "stdout",
     "output_type": "stream",
     "text": [
      "\n",
      "c\n",
      "b\n",
      "bc\n",
      "a\n",
      "ac\n",
      "ab\n",
      "abc\n"
     ]
    }
   ],
   "source": [
    "def print_subsets(string, current_subset, index):\n",
    "    if index == len(string):\n",
    "        print(current_subset)\n",
    "        return\n",
    "\n",
    "    print_subsets(string, current_subset, index + 1)\n",
    "    print_subsets(string, current_subset + string[index], index + 1)\n",
    "\n",
    "# Example usage\n",
    "string = \"abc\"\n",
    "print_subsets(string, \"\", 0)"
   ]
  },
  {
   "cell_type": "markdown",
   "id": "81120b97-9c63-4753-8d5d-819694773857",
   "metadata": {},
   "source": [
    "**Question 4**\n",
    "Given a string calculate length of the string using recursion.\n",
    "\n",
    "Examples: Input : str = \"abcd\" Output :4\n",
    "\n",
    "Input : str = \"GEEKSFORGEEKS\" Output :13"
   ]
  },
  {
   "cell_type": "code",
   "execution_count": 5,
   "id": "ec5d619d-a148-4dcf-bd65-40916a92aba6",
   "metadata": {},
   "outputs": [
    {
     "name": "stdout",
     "output_type": "stream",
     "text": [
      "4\n",
      "13\n"
     ]
    }
   ],
   "source": [
    "def calculate_length(string):\n",
    "    if string == \"\":\n",
    "        return 0\n",
    "    else:\n",
    "        return 1 + calculate_length(string[1:])\n",
    "\n",
    "\n",
    "str1 = \"abcd\"\n",
    "print(calculate_length(str1))  \n",
    "\n",
    "str2 = \"GEEKSFORGEEKS\"\n",
    "print(calculate_length(str2))"
   ]
  },
  {
   "cell_type": "markdown",
   "id": "05b5f8ba-8219-44e7-a4d9-0166f311a592",
   "metadata": {},
   "source": [
    "**Question 5**\n",
    "We are given a string S, we need to find count of all contiguous substrings starting and ending with same character.\n",
    "\n",
    "Examples : Input : S = \"abcab\" Output : 7 There are 15 substrings of \"abcab\" a, ab, abc, abca, abcab, b, bc, bca bcab, c, ca, cab, a, ab, b Out of the above substrings, there are 7 substrings : a, abca, b, bcab, c, a and b.\n",
    "\n",
    "Input : S = \"aba\" Output : 4 The substrings are a, b, a and aba"
   ]
  },
  {
   "cell_type": "code",
   "execution_count": null,
   "id": "c0be0950-d9e7-41a0-a8fa-110b274c504c",
   "metadata": {},
   "outputs": [],
   "source": []
  }
 ],
 "metadata": {
  "kernelspec": {
   "display_name": "Python 3 (ipykernel)",
   "language": "python",
   "name": "python3"
  },
  "language_info": {
   "codemirror_mode": {
    "name": "ipython",
    "version": 3
   },
   "file_extension": ".py",
   "mimetype": "text/x-python",
   "name": "python",
   "nbconvert_exporter": "python",
   "pygments_lexer": "ipython3",
   "version": "3.10.6"
  }
 },
 "nbformat": 4,
 "nbformat_minor": 5
}
