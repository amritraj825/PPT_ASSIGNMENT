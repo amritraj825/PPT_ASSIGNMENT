{
 "cells": [
  {
   "cell_type": "markdown",
   "metadata": {},
   "source": [
    "<aside>\n",
    "💡 Question-1:\n",
    "\n",
    "Given preorder of a binary tree, calculate its **[depth(or height)](https://www.geeksforgeeks.org/write-a-c-program-to-find-the-maximum-depth-or-height-of-a-tree/)** [starting from depth 0]. The preorder is given as a string with two possible characters.\n",
    "\n",
    "1. ‘l’ denotes the leaf\n",
    "2. ‘n’ denotes internal node\n",
    "\n",
    "The given tree can be seen as a full binary tree where every node has 0 or two children. The two children of a node can ‘n’ or ‘l’ or mix of both.\n",
    "\n",
    "</aside>"
   ]
  },
  {
   "cell_type": "code",
   "execution_count": 1,
   "metadata": {},
   "outputs": [
    {
     "name": "stdout",
     "output_type": "stream",
     "text": [
      "Depth of the binary tree: 3\n"
     ]
    }
   ],
   "source": [
    "def calculate_depth(preorder):\n",
    "    def helper(preorder, index):\n",
    "        if index >= len(preorder):\n",
    "            return 0\n",
    "\n",
    "        if preorder[index] == 'l':\n",
    "            return 0\n",
    "\n",
    "        left_index = index + 1\n",
    "        right_index = index + 2\n",
    "\n",
    "        left_depth = helper(preorder, left_index)\n",
    "        right_depth = helper(preorder, right_index)\n",
    "\n",
    "        return max(left_depth, right_depth) + 1\n",
    "\n",
    "    return helper(preorder, 0)\n",
    "\n",
    "\n",
    "# Test the implementation\n",
    "preorder = \"nlnnll\"\n",
    "depth = calculate_depth(preorder)\n",
    "print(\"Depth of the binary tree:\", depth)\n"
   ]
  },
  {
   "cell_type": "markdown",
   "metadata": {},
   "source": [
    "<aside>\n",
    "💡 Question-2:\n",
    "\n",
    "Given a Binary tree, the task is to print the **left view** of the Binary Tree. The left view of a Binary Tree is a set of leftmost nodes for every level.\n",
    "\n",
    "</aside>"
   ]
  },
  {
   "cell_type": "code",
   "execution_count": 2,
   "metadata": {},
   "outputs": [
    {
     "name": "stdout",
     "output_type": "stream",
     "text": [
      "Left View of the Binary Tree:\n",
      "1 2 4 \n"
     ]
    }
   ],
   "source": [
    "class Node:\n",
    "    def __init__(self, data):\n",
    "        self.data = data\n",
    "        self.left = None\n",
    "        self.right = None\n",
    "\n",
    "\n",
    "def print_left_view(root):\n",
    "    if root is None:\n",
    "        return\n",
    "\n",
    "    queue = [(root, 1)]  # Queue to store nodes along with their levels\n",
    "    level_dict = {}  # Dictionary to store the leftmost node at each level\n",
    "\n",
    "    while queue:\n",
    "        node, level = queue.pop(0)\n",
    "\n",
    "        if level not in level_dict:\n",
    "            level_dict[level] = node.data\n",
    "\n",
    "        if node.left:\n",
    "            queue.append((node.left, level + 1))\n",
    "        if node.right:\n",
    "            queue.append((node.right, level + 1))\n",
    "\n",
    "    # Print the leftmost nodes at each level\n",
    "    for level in sorted(level_dict.keys()):\n",
    "        print(level_dict[level], end=\" \")\n",
    "    print()\n",
    "\n",
    "\n",
    "# Test the implementation\n",
    "# Create a binary tree\n",
    "root = Node(1)\n",
    "root.left = Node(2)\n",
    "root.right = Node(3)\n",
    "root.left.left = Node(4)\n",
    "root.left.right = Node(5)\n",
    "root.right.left = Node(6)\n",
    "root.right.right = Node(7)\n",
    "\n",
    "# Print the left view of the binary tree\n",
    "print(\"Left View of the Binary Tree:\")\n",
    "print_left_view(root)\n"
   ]
  },
  {
   "cell_type": "markdown",
   "metadata": {},
   "source": [
    "<aside>\n",
    "💡 Question-3:\n",
    "\n",
    "Given a Binary Tree, print the Right view of it.\n",
    "\n",
    "The right view of a Binary Tree is a set of nodes visible when the tree is visited from the Right side.\n",
    "\n",
    "</aside>"
   ]
  },
  {
   "cell_type": "code",
   "execution_count": 3,
   "metadata": {},
   "outputs": [
    {
     "name": "stdout",
     "output_type": "stream",
     "text": [
      "Right View of the Binary Tree:\n",
      "1 3 7 \n"
     ]
    }
   ],
   "source": [
    "class Node:\n",
    "    def __init__(self, data):\n",
    "        self.data = data\n",
    "        self.left = None\n",
    "        self.right = None\n",
    "\n",
    "\n",
    "def print_right_view(root):\n",
    "    if root is None:\n",
    "        return\n",
    "\n",
    "    queue = [(root, 1)]  # Queue to store nodes along with their levels\n",
    "    level_dict = {}  # Dictionary to store the rightmost node at each level\n",
    "\n",
    "    while queue:\n",
    "        node, level = queue.pop(0)\n",
    "\n",
    "        # Update the rightmost node at the current level\n",
    "        level_dict[level] = node.data\n",
    "\n",
    "        if node.left:\n",
    "            queue.append((node.left, level + 1))\n",
    "        if node.right:\n",
    "            queue.append((node.right, level + 1))\n",
    "\n",
    "    # Print the rightmost nodes at each level\n",
    "    for level in sorted(level_dict.keys()):\n",
    "        print(level_dict[level], end=\" \")\n",
    "    print()\n",
    "\n",
    "\n",
    "# Test the implementation\n",
    "# Create a binary tree\n",
    "root = Node(1)\n",
    "root.left = Node(2)\n",
    "root.right = Node(3)\n",
    "root.left.left = Node(4)\n",
    "root.left.right = Node(5)\n",
    "root.right.left = Node(6)\n",
    "root.right.right = Node(7)\n",
    "\n",
    "# Print the right view of the binary tree\n",
    "print(\"Right View of the Binary Tree:\")\n",
    "print_right_view(root)\n"
   ]
  },
  {
   "cell_type": "markdown",
   "metadata": {},
   "source": [
    "<aside>\n",
    "💡 Question-4:\n",
    "\n",
    "Given a Binary Tree, The task is to print the **bottom view** from left to right. A node **x** is there in output if x is the bottommost node at its horizontal distance. The horizontal distance of the left child of a node x is equal to a horizontal distance of x minus 1, and that of a right child is the horizontal distance of x plus 1.\n",
    "\n",
    "</aside>"
   ]
  },
  {
   "cell_type": "code",
   "execution_count": 4,
   "metadata": {},
   "outputs": [
    {
     "name": "stdout",
     "output_type": "stream",
     "text": [
      "Bottom View of the Binary Tree:\n",
      "4 2 6 3 7 \n"
     ]
    }
   ],
   "source": [
    "class Node:\n",
    "    def __init__(self, data):\n",
    "        self.data = data\n",
    "        self.left = None\n",
    "        self.right = None\n",
    "\n",
    "\n",
    "def print_bottom_view(root):\n",
    "    if root is None:\n",
    "        return\n",
    "\n",
    "    queue = [(root, 0)]  # Queue to store nodes along with their horizontal distances\n",
    "    node_dict = {}  # Dictionary to store the bottommost node for each horizontal distance\n",
    "\n",
    "    while queue:\n",
    "        node, hd = queue.pop(0)\n",
    "\n",
    "        # Update the bottommost node for the current horizontal distance\n",
    "        node_dict[hd] = node.data\n",
    "\n",
    "        if node.left:\n",
    "            queue.append((node.left, hd - 1))\n",
    "        if node.right:\n",
    "            queue.append((node.right, hd + 1))\n",
    "\n",
    "    # Print the bottom view from left to right\n",
    "    for hd in sorted(node_dict.keys()):\n",
    "        print(node_dict[hd], end=\" \")\n",
    "    print()\n",
    "\n",
    "\n",
    "# Test the implementation\n",
    "# Create a binary tree\n",
    "root = Node(1)\n",
    "root.left = Node(2)\n",
    "root.right = Node(3)\n",
    "root.left.left = Node(4)\n",
    "root.left.right = Node(5)\n",
    "root.right.left = Node(6)\n",
    "root.right.right = Node(7)\n",
    "\n",
    "# Print the bottom view of the binary tree\n",
    "print(\"Bottom View of the Binary Tree:\")\n",
    "print_bottom_view(root)\n"
   ]
  },
  {
   "cell_type": "code",
   "execution_count": null,
   "metadata": {},
   "outputs": [],
   "source": []
  }
 ],
 "metadata": {
  "kernelspec": {
   "display_name": "Python 3",
   "language": "python",
   "name": "python3"
  },
  "language_info": {
   "codemirror_mode": {
    "name": "ipython",
    "version": 3
   },
   "file_extension": ".py",
   "mimetype": "text/x-python",
   "name": "python",
   "nbconvert_exporter": "python",
   "pygments_lexer": "ipython3",
   "version": "3.11.1"
  },
  "orig_nbformat": 4
 },
 "nbformat": 4,
 "nbformat_minor": 2
}
