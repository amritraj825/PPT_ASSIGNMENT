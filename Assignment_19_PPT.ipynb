{
 "cells": [
  {
   "cell_type": "markdown",
   "id": "0fda14a2-0726-4c71-9014-27ee99893712",
   "metadata": {},
   "source": [
    " 1. Merge k Sorted Lists\n",
    "\n",
    "You are given an array of k linked-lists lists, each linked-list is sorted in ascending order.\n",
    "\n",
    "Merge all the linked-lists into one sorted linked-list and return it."
   ]
  },
  {
   "cell_type": "code",
   "execution_count": 1,
   "id": "1cedddc4-71b3-4798-9545-8c4402f8ffdb",
   "metadata": {},
   "outputs": [
    {
     "name": "stdout",
     "output_type": "stream",
     "text": [
      "1 1 2 3 4 4 5 6 "
     ]
    }
   ],
   "source": [
    "import heapq\n",
    "\n",
    "class ListNode:\n",
    "    def __init__(self, val=0, next=None):\n",
    "        self.val = val\n",
    "        self.next = next\n",
    "    \n",
    "    # Custom comparison function for ListNode instances\n",
    "    def __lt__(self, other):\n",
    "        return self.val < other.val\n",
    "\n",
    "def mergeKLists(lists):\n",
    "    # Create a min-heap\n",
    "    min_heap = []\n",
    "\n",
    "    # Insert the head node of each linked list into the min-heap\n",
    "    for head in lists:\n",
    "        if head:\n",
    "            heapq.heappush(min_heap, head)\n",
    "\n",
    "    # Create a dummy node and a pointer to track the merged list\n",
    "    dummy = ListNode(0)\n",
    "    curr = dummy\n",
    "\n",
    "    # Merge the linked lists using the min-heap\n",
    "    while min_heap:\n",
    "        # Remove the minimum node from the min-heap\n",
    "        node = heapq.heappop(min_heap)\n",
    "\n",
    "        # Set the next node in the merged list\n",
    "        curr.next = node\n",
    "\n",
    "        # If the removed node has a next node, insert it into the min-heap\n",
    "        if node.next:\n",
    "            heapq.heappush(min_heap, node.next)\n",
    "\n",
    "        # Move the pointer to the next position\n",
    "        curr = curr.next\n",
    "\n",
    "    return dummy.next\n",
    "\n",
    "head1 = ListNode(1)\n",
    "head1.next = ListNode(4)\n",
    "head1.next.next = ListNode(5)\n",
    "\n",
    "head2 = ListNode(1)\n",
    "head2.next = ListNode(3)\n",
    "head2.next.next = ListNode(4)\n",
    "\n",
    "head3 = ListNode(2)\n",
    "head3.next = ListNode(6)\n",
    "\n",
    "merged = mergeKLists([head1, head2, head3])\n",
    "\n",
    "while merged:\n",
    "    print(merged.val, end=\" \")\n",
    "    merged = merged.next"
   ]
  },
  {
   "cell_type": "markdown",
   "id": "d581a35a-2362-4074-8ebf-b276a9a9d36e",
   "metadata": {},
   "source": [
    "2. Count of Smaller Numbers After Self\n",
    "\n",
    "Given an integer array nums, return an integer array counts where counts[i] is the number of smaller elements to the right of nums[i]."
   ]
  },
  {
   "cell_type": "code",
   "execution_count": 2,
   "id": "637c7b55-1a5a-455f-afdc-02de4e4aa429",
   "metadata": {},
   "outputs": [
    {
     "name": "stdout",
     "output_type": "stream",
     "text": [
      "[2, 1, 1, 0]\n"
     ]
    }
   ],
   "source": [
    "class Node:\n",
    "    def __init__(self, val, idx):\n",
    "        self.val = val\n",
    "        self.idx = idx\n",
    "        self.count = 0\n",
    "        self.left = None\n",
    "        self.right = None\n",
    "\n",
    "def countSmaller(nums):\n",
    "    def merge_sort(arr):\n",
    "        if len(arr) <= 1:\n",
    "            return arr\n",
    "\n",
    "        mid = len(arr) // 2\n",
    "        left = merge_sort(arr[:mid])\n",
    "        right = merge_sort(arr[mid:])\n",
    "\n",
    "        return merge(left, right)\n",
    "\n",
    "    def merge(left, right):\n",
    "        merged = []\n",
    "        i = j = 0\n",
    "\n",
    "        while i < len(left) and j < len(right):\n",
    "            if left[i].val <= right[j].val:\n",
    "                merged.append(left[i])\n",
    "                left[i].count += j  # Update the count of smaller elements\n",
    "                i += 1\n",
    "            else:\n",
    "                merged.append(right[j])\n",
    "                j += 1\n",
    "\n",
    "        while i < len(left):\n",
    "            merged.append(left[i])\n",
    "            left[i].count += j  # Update the count of smaller elements\n",
    "            i += 1\n",
    "\n",
    "        while j < len(right):\n",
    "            merged.append(right[j])\n",
    "            j += 1\n",
    "\n",
    "        return merged\n",
    "\n",
    "    # Create a list of Node objects with values and indices\n",
    "    nodes = [Node(nums[i], i) for i in range(len(nums))]\n",
    "\n",
    "    # Perform merge sort while updating the counts\n",
    "    merge_sort(nodes)\n",
    "\n",
    "    # Create the result array based on the counts\n",
    "    counts = [node.count for node in nodes]\n",
    "\n",
    "    return counts\n",
    "nums = [5, 2, 6, 1]\n",
    "counts = countSmaller(nums)\n",
    "print(counts)"
   ]
  },
  {
   "cell_type": "markdown",
   "id": "ba1b8088-a78b-49a4-b6de-2ff80b6c5384",
   "metadata": {},
   "source": [
    "3. Sort an Array\n",
    "\n",
    "Given an array of integers nums, sort the array in ascending order and return it.\n",
    "\n",
    "You must solve the problem without using any built-in functions in O(nlog(n)) time complexity and with the smallest space complexity possible."
   ]
  },
  {
   "cell_type": "code",
   "execution_count": 3,
   "id": "e9676650-495f-4fad-8e47-65f03423ad41",
   "metadata": {},
   "outputs": [
    {
     "name": "stdout",
     "output_type": "stream",
     "text": [
      "[1, 2, 3, 4, 5]\n"
     ]
    }
   ],
   "source": [
    "def sortArray(nums):\n",
    "    def partition(low, high):\n",
    "        pivot = nums[high]  # Choose the pivot element\n",
    "        i = low - 1  # Index of the smaller element\n",
    "\n",
    "        for j in range(low, high):\n",
    "            # If the current element is smaller than or equal to the pivot\n",
    "            if nums[j] <= pivot:\n",
    "                i += 1\n",
    "                nums[i], nums[j] = nums[j], nums[i]  # Swap elements\n",
    "\n",
    "        nums[i + 1], nums[high] = nums[high], nums[i + 1]  # Swap pivot with the correct position\n",
    "        return i + 1  # Return the index of the pivot\n",
    "\n",
    "    def quicksort(low, high):\n",
    "        if low < high:\n",
    "            # Partition the array and get the pivot index\n",
    "            pivot_index = partition(low, high)\n",
    "\n",
    "            # Recursively sort the left and right subarrays\n",
    "            quicksort(low, pivot_index - 1)\n",
    "            quicksort(pivot_index + 1, high)\n",
    "\n",
    "    # Call the quicksort function to sort the array\n",
    "    quicksort(0, len(nums) - 1)\n",
    "\n",
    "    return nums\n",
    "nums = [5, 2, 3, 1, 4]\n",
    "sorted_nums = sortArray(nums)\n",
    "print(sorted_nums)"
   ]
  },
  {
   "cell_type": "markdown",
   "id": "b5e0d1a5-575e-4a68-b524-e702b51ad818",
   "metadata": {},
   "source": [
    " 4. Move all zeroes to end of array\n",
    "\n",
    "Given an array of random numbers, Push all the zero’s of a given array to the end of the array. For example, if the given arrays is {1, 9, 8, 4, 0, 0, 2, 7, 0, 6, 0}, it should be changed to {1, 9, 8, 4, 2, 7, 6, 0, 0, 0, 0}. The order of all other elements should be same. Expected time complexity is O(n) and extra space is O(1)."
   ]
  },
  {
   "cell_type": "code",
   "execution_count": 4,
   "id": "da55e118-1486-4b74-b43a-156d858a626a",
   "metadata": {},
   "outputs": [
    {
     "name": "stdout",
     "output_type": "stream",
     "text": [
      "[0, 0, 0, 1, 2, 3, 4, 5]\n"
     ]
    }
   ],
   "source": [
    "def moveZeroes(nums):\n",
    "    \n",
    "    i = 0  \n",
    "    j = 0  \n",
    "\n",
    "    # Move non-zero elements to their correct positions\n",
    "    while i < len(nums):\n",
    "        if nums[i] != 0:\n",
    "            nums[j] = nums[i]\n",
    "            j += 1\n",
    "        i += 1\n",
    "\n",
    "    # Fill the remaining positions with zeroes\n",
    "    while j < len(nums):\n",
    "        nums[j] = 0\n",
    "        j += 1\n",
    "\n",
    "    return nums\n",
    "\n",
    "nums = [1, 2, 0, 4, 3, 0, 5, 0]\n",
    "sorted_nums = sortArray(nums)\n",
    "print(sorted_nums) "
   ]
  },
  {
   "cell_type": "markdown",
   "id": "6ba8de95-c39e-4c07-b6e5-f521d6b53822",
   "metadata": {},
   "source": [
    "5. Rearrange array in alternating positive & negative items with O(1) extra space\n",
    "\n",
    "Given an array of positive and negative numbers, arrange them in an alternate fashion such that every positive number is followed by a negative and vice-versa maintaining the order of appearance. The number of positive and negative numbers need not be equal. If there are more positive numbers they appear at the end of the array. If there are more negative numbers, they too appear at the end of the array."
   ]
  },
  {
   "cell_type": "code",
   "execution_count": null,
   "id": "fec53bb2-c437-4068-a12e-b76fb4dfb13f",
   "metadata": {},
   "outputs": [],
   "source": []
  }
 ],
 "metadata": {
  "kernelspec": {
   "display_name": "Python 3 (ipykernel)",
   "language": "python",
   "name": "python3"
  },
  "language_info": {
   "codemirror_mode": {
    "name": "ipython",
    "version": 3
   },
   "file_extension": ".py",
   "mimetype": "text/x-python",
   "name": "python",
   "nbconvert_exporter": "python",
   "pygments_lexer": "ipython3",
   "version": "3.10.6"
  }
 },
 "nbformat": 4,
 "nbformat_minor": 5
}
