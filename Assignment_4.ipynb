{
 "cells": [
  {
   "cell_type": "markdown",
   "id": "1c660b61",
   "metadata": {},
   "source": [
    "\n",
    "1. Given three integer arrays arr1, arr2 and arr3 **sorted** in **strictly increasing** order, return a sorted array of **only** the integers that appeared in **all** three arrays.\n",
    "\n",
    "**Example 1:**\n",
    "\n",
    "Input: arr1 = [1,2,3,4,5], arr2 = [1,2,5,7,9], arr3 = [1,3,4,5,8]\n",
    "\n",
    "Output: [1,5]\n",
    "\n",
    "**Explanation:** Only 1 and 5 appeared in the three arrays.\n",
    "\n",
    "\n"
   ]
  },
  {
   "cell_type": "code",
   "execution_count": 2,
   "id": "0a9ca8b7",
   "metadata": {},
   "outputs": [],
   "source": [
    "def find_common_elements(arr1, arr2, arr3):\n",
    "    ptr1, ptr2, ptr3 = 0, 0, 0\n",
    "    result = []\n",
    "\n",
    "    while ptr1 < len(arr1) and ptr2 < len(arr2) and ptr3 < len(arr3):\n",
    "        if arr1[ptr1] == arr2[ptr2] == arr3[ptr3]:\n",
    "            result.append(arr1[ptr1])\n",
    "            ptr1 += 1\n",
    "            ptr2 += 1\n",
    "            ptr3 += 1\n",
    "        elif arr1[ptr1] < arr2[ptr2] or arr1[ptr1] < arr3[ptr3]:\n",
    "            ptr1 += 1\n",
    "        elif arr2[ptr2] < arr1[ptr1] or arr2[ptr2] < arr3[ptr3]:\n",
    "            ptr2 += 1\n",
    "        elif arr3[ptr3] < arr1[ptr1] or arr3[ptr3] < arr2[ptr2]:\n",
    "            ptr3 += 1\n",
    "\n",
    "    return result\n"
   ]
  },
  {
   "cell_type": "code",
   "execution_count": 3,
   "id": "8bfd0f17",
   "metadata": {},
   "outputs": [
    {
     "name": "stdout",
     "output_type": "stream",
     "text": [
      "[1, 5]\n"
     ]
    }
   ],
   "source": [
    "arr1 = [1, 2, 3, 4, 5]\n",
    "arr2 = [1, 2, 5, 7, 9]\n",
    "arr3 = [1, 3, 4, 5, 8]\n",
    "result = find_common_elements(arr1, arr2, arr3)\n",
    "print(result)  # Output: [1, 5]\n"
   ]
  },
  {
   "cell_type": "markdown",
   "id": "2877879b",
   "metadata": {},
   "source": [
    "\n",
    "💡 **Question 2**\n",
    "\n",
    "Given two **0-indexed** integer arrays nums1 and nums2, return *a list* answer *of size* 2 *where:*\n",
    "\n",
    "- answer[0] *is a list of all **distinct** integers in* nums1 *which are **not** present in* nums2*.*\n",
    "- answer[1] *is a list of all **distinct** integers in* nums2 *which are **not** present in* nums1.\n",
    "\n",
    "**Note** that the integers in the lists may be returned in **any** order.\n",
    "\n",
    "**Example 1:**\n",
    "\n",
    "**Input:** nums1 = [1,2,3], nums2 = [2,4,6]\n",
    "\n",
    "**Output:** [[1,3],[4,6]]\n",
    "\n",
    "**Explanation:**\n",
    "\n",
    "For nums1, nums1[1] = 2 is present at index 0 of nums2, whereas nums1[0] = 1 and nums1[2] = 3 are not present in nums2. Therefore, answer[0] = [1,3].\n",
    "\n",
    "For nums2, nums2[0] = 2 is present at index 1 of nums1, whereas nums2[1] = 4 and nums2[2] = 6 are not present in nums2. Therefore, answer[1] = [4,6].\n",
    "\n"
   ]
  },
  {
   "cell_type": "code",
   "execution_count": 4,
   "id": "bc19cca6",
   "metadata": {},
   "outputs": [],
   "source": [
    "def find_disjoint_integers(nums1, nums2):\n",
    "    set_nums1 = set(nums1)\n",
    "    set_nums2 = set(nums2)\n",
    "\n",
    "    distinct_nums1 = list(set_nums1 - set_nums2)\n",
    "    distinct_nums2 = list(set_nums2 - set_nums1)\n",
    "\n",
    "    return [distinct_nums1, distinct_nums2]\n"
   ]
  },
  {
   "cell_type": "code",
   "execution_count": 5,
   "id": "6a92bca4",
   "metadata": {},
   "outputs": [
    {
     "name": "stdout",
     "output_type": "stream",
     "text": [
      "[[1, 3], [4, 6]]\n"
     ]
    }
   ],
   "source": [
    "nums1 = [1, 2, 3]\n",
    "nums2 = [2, 4, 6]\n",
    "result = find_disjoint_integers(nums1, nums2)\n",
    "print(result)  # Output: [[1, 3], [4, 6]]\n"
   ]
  },
  {
   "cell_type": "markdown",
   "id": "2334bbe0",
   "metadata": {},
   "source": [
    "<aside>\n",
    "💡 **Question 3**\n",
    "Given a 2D integer array matrix, return *the **transpose** of* matrix.\n",
    "\n",
    "The **transpose** of a matrix is the matrix flipped over its main diagonal, switching the matrix's row and column indices.\n",
    "\n",
    "**Example 1:**\n",
    "\n",
    "Input: matrix = [[1,2,3],[4,5,6],[7,8,9]]\n",
    "\n",
    "Output: [[1,4,7],[2,5,8],[3,6,9]]\n",
    "\n",
    "</aside>"
   ]
  },
  {
   "cell_type": "code",
   "execution_count": 6,
   "id": "e88455f8",
   "metadata": {},
   "outputs": [],
   "source": [
    "def transpose(matrix):\n",
    "    num_rows = len(matrix)\n",
    "    num_cols = len(matrix[0])\n",
    "\n",
    "    result = [[0] * num_rows for _ in range(num_cols)]\n",
    "\n",
    "    for i in range(num_rows):\n",
    "        for j in range(num_cols):\n",
    "            result[j][i] = matrix[i][j]\n",
    "\n",
    "    return result\n"
   ]
  },
  {
   "cell_type": "code",
   "execution_count": 7,
   "id": "f34cce33",
   "metadata": {},
   "outputs": [
    {
     "name": "stdout",
     "output_type": "stream",
     "text": [
      "[[1, 4, 7], [2, 5, 8], [3, 6, 9]]\n"
     ]
    }
   ],
   "source": [
    "matrix = [[1, 2, 3], [4, 5, 6], [7, 8, 9]]\n",
    "result = transpose(matrix)\n",
    "print(result)  # Output: [[1, 4, 7], [2, 5, 8], [3, 6, 9]]\n"
   ]
  },
  {
   "cell_type": "markdown",
   "id": "57664ef5",
   "metadata": {},
   "source": [
    "<aside>\n",
    "💡 **Question 8**\n",
    "\n",
    "Given the array nums consisting of 2n elements in the form [x1,x2,...,xn,y1,y2,...,yn].\n",
    "\n",
    "*Return the array in the form* [x1,y1,x2,y2,...,xn,yn].\n",
    "\n",
    "**Example 1:**\n",
    "\n",
    "**Input:** nums = [2,5,1,3,4,7], n = 3\n",
    "\n",
    "**Output:** [2,3,5,4,1,7]\n",
    "\n",
    "**Explanation:** Since x1=2, x2=5, x3=1, y1=3, y2=4, y3=7 then the answer is [2,3,5,4,1,7].\n",
    "\n",
    "</aside>"
   ]
  },
  {
   "cell_type": "code",
   "execution_count": 11,
   "id": "794d38a9",
   "metadata": {},
   "outputs": [],
   "source": [
    "def rearrange_array(nums, n):\n",
    "    x_nums = nums[:n]\n",
    "    y_nums = nums[n:]\n",
    "\n",
    "    result = []\n",
    "    for i in range(n):\n",
    "        result.append(x_nums[i])\n",
    "        result.append(y_nums[i])\n",
    "\n",
    "    return result\n"
   ]
  },
  {
   "cell_type": "code",
   "execution_count": 12,
   "id": "cda72760",
   "metadata": {},
   "outputs": [
    {
     "name": "stdout",
     "output_type": "stream",
     "text": [
      "[2, 3, 5, 4, 1, 7]\n"
     ]
    }
   ],
   "source": [
    "nums = [2, 5, 1, 3, 4, 7]\n",
    "n = 3\n",
    "result = rearrange_array(nums, n)\n",
    "print(result)  # Output: [2, 3, 5, 4, 1, 7]\n"
   ]
  },
  {
   "cell_type": "code",
   "execution_count": null,
   "id": "a0fceb91",
   "metadata": {},
   "outputs": [],
   "source": []
  }
 ],
 "metadata": {
  "kernelspec": {
   "display_name": "Python 3",
   "language": "python",
   "name": "python3"
  },
  "language_info": {
   "codemirror_mode": {
    "name": "ipython",
    "version": 3
   },
   "file_extension": ".py",
   "mimetype": "text/x-python",
   "name": "python",
   "nbconvert_exporter": "python",
   "pygments_lexer": "ipython3",
   "version": "3.8.8"
  }
 },
 "nbformat": 4,
 "nbformat_minor": 5
}
