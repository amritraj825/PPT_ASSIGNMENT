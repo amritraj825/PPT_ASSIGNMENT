{
 "cells": [
  {
   "cell_type": "markdown",
   "metadata": {},
   "source": [
    "<aside>\n",
    "💡 Question-1:\n",
    "\n",
    "Given a Binary Tree (Bt), convert it to a Doubly Linked List(DLL). The left and right pointers in nodes are to be used as previous and next pointers respectively in converted DLL. The order of nodes in DLL must be the same as in Inorder for the given Binary Tree. The first node of Inorder traversal (leftmost node in BT) must be the head node of the DLL.\n",
    "\n",
    "</aside>"
   ]
  },
  {
   "cell_type": "code",
   "execution_count": 3,
   "metadata": {},
   "outputs": [],
   "source": [
    "class Node:\n",
    "    def __init__(self, data):\n",
    "        self.data = data\n",
    "        self.left = None\n",
    "        self.right = None\n",
    "\n",
    "\n",
    "def convert_to_dll(root):\n",
    "    def convert_node(node, prev=None):\n",
    "        if node is None:\n",
    "            return prev\n",
    "\n",
    "        # Convert the left subtree\n",
    "        prev = convert_node(node.left, prev)\n",
    "\n",
    "        # Update the pointers\n",
    "        node.left = prev\n",
    "        if prev:\n",
    "            prev.right = node\n",
    "\n",
    "        # Set the current node as the new previous node\n",
    "        prev = node\n",
    "\n",
    "        # Convert the right subtree\n",
    "        return convert_node(node.right, prev)\n",
    "\n"
   ]
  },
  {
   "cell_type": "markdown",
   "metadata": {},
   "source": [
    "<aside>\n",
    "💡 Question-2\n",
    "\n",
    "A Given a binary tree, the task is to flip the binary tree towards the right direction that is clockwise. See the below examples to see the transformation.\n",
    "\n",
    "In the flip operation, the leftmost node becomes the root of the flipped tree and its parent becomes its right child and the right sibling becomes its left child and the same should be done for all left most nodes recursively.\n",
    "\n",
    "</aside>"
   ]
  },
  {
   "cell_type": "code",
   "execution_count": 4,
   "metadata": {},
   "outputs": [
    {
     "name": "stdout",
     "output_type": "stream",
     "text": [
      "Original Binary Tree:\n",
      "[4, 2, 5, 1, 3]\n",
      "Flipped Binary Tree:\n",
      "[3, 1, 5, 2, 4]\n"
     ]
    }
   ],
   "source": [
    "class Node:\n",
    "    def __init__(self, data):\n",
    "        self.data = data\n",
    "        self.left = None\n",
    "        self.right = None\n",
    "\n",
    "\n",
    "def flip_binary_tree(root):\n",
    "    if root is None or (root.left is None and root.right is None):\n",
    "        return root\n",
    "\n",
    "    flipped_left = flip_binary_tree(root.left)\n",
    "    flipped_right = flip_binary_tree(root.right)\n",
    "\n",
    "    root.left = flipped_right\n",
    "    root.right = flipped_left\n",
    "\n",
    "    return root\n",
    "\n",
    "\n",
    "def inorder_traversal(root):\n",
    "    if root is None:\n",
    "        return []\n",
    "\n",
    "    return inorder_traversal(root.left) + [root.data] + inorder_traversal(root.right)\n",
    "\n",
    "\n",
    "# Test the implementation\n",
    "# Create a binary tree\n",
    "root = Node(1)\n",
    "root.left = Node(2)\n",
    "root.right = Node(3)\n",
    "root.left.left = Node(4)\n",
    "root.left.right = Node(5)\n",
    "\n",
    "# Print the original binary tree\n",
    "print(\"Original Binary Tree:\")\n",
    "inorder = inorder_traversal(root)\n",
    "print(inorder)\n",
    "\n",
    "# Flip the binary tree\n",
    "flipped_root = flip_binary_tree(root)\n",
    "\n",
    "# Print the flipped binary tree\n",
    "print(\"Flipped Binary Tree:\")\n",
    "flipped_inorder = inorder_traversal(flipped_root)\n",
    "print(flipped_inorder)\n"
   ]
  },
  {
   "cell_type": "markdown",
   "metadata": {},
   "source": [
    "<aside>\n",
    "💡 Question-3:\n",
    "\n",
    "Given a binary tree, print all its root-to-leaf paths without using recursion. For example, consider the following Binary Tree.\n",
    "\n",
    "</aside>"
   ]
  },
  {
   "cell_type": "code",
   "execution_count": 5,
   "metadata": {},
   "outputs": [
    {
     "name": "stdout",
     "output_type": "stream",
     "text": [
      "Root-to-Leaf Paths:\n",
      "1->2->4\n",
      "1->2->5\n",
      "1->3->6\n",
      "1->3->7\n"
     ]
    }
   ],
   "source": [
    "class Node:\n",
    "    def __init__(self, data):\n",
    "        self.data = data\n",
    "        self.left = None\n",
    "        self.right = None\n",
    "\n",
    "\n",
    "def print_root_to_leaf_paths(root):\n",
    "    if root is None:\n",
    "        return\n",
    "\n",
    "    stack = [(root, str(root.data))]\n",
    "\n",
    "    while stack:\n",
    "        node, path = stack.pop()\n",
    "\n",
    "        if node.left is None and node.right is None:\n",
    "            print(path)  # Print the root-to-leaf path\n",
    "\n",
    "        if node.right:\n",
    "            stack.append((node.right, path + \"->\" + str(node.right.data)))\n",
    "        if node.left:\n",
    "            stack.append((node.left, path + \"->\" + str(node.left.data)))\n",
    "\n",
    "\n",
    "# Test the implementation\n",
    "# Create a binary tree\n",
    "root = Node(1)\n",
    "root.left = Node(2)\n",
    "root.right = Node(3)\n",
    "root.left.left = Node(4)\n",
    "root.left.right = Node(5)\n",
    "root.right.left = Node(6)\n",
    "root.right.right = Node(7)\n",
    "\n",
    "# Print all root-to-leaf paths\n",
    "print(\"Root-to-Leaf Paths:\")\n",
    "print_root_to_leaf_paths(root)\n"
   ]
  },
  {
   "cell_type": "markdown",
   "metadata": {},
   "source": [
    "<aside>\n",
    "💡 Question-4:\n",
    "\n",
    "Given Preorder, Inorder and Postorder traversals of some tree. Write a program to check if they all are of the same tree.\n",
    "\n",
    "</aside>"
   ]
  },
  {
   "cell_type": "code",
   "execution_count": 6,
   "metadata": {},
   "outputs": [
    {
     "name": "stdout",
     "output_type": "stream",
     "text": [
      "The traversals represent the same tree.\n"
     ]
    }
   ],
   "source": [
    "def are_traversals_same(preorder, inorder, postorder):\n",
    "    if len(preorder) != len(inorder) or len(inorder) != len(postorder):\n",
    "        return False\n",
    "\n",
    "    if len(preorder) == 0:\n",
    "        return True\n",
    "\n",
    "    if preorder[0] != postorder[-1]:\n",
    "        return False\n",
    "\n",
    "    root = preorder[0]\n",
    "    root_index = inorder.index(root)\n",
    "\n",
    "    left_inorder = inorder[:root_index]\n",
    "    right_inorder = inorder[root_index+1:]\n",
    "\n",
    "    left_preorder = preorder[1:1+len(left_inorder)]\n",
    "    right_preorder = preorder[1+len(left_inorder):]\n",
    "\n",
    "    left_postorder = postorder[:len(left_inorder)]\n",
    "    right_postorder = postorder[len(left_inorder):-1]\n",
    "\n",
    "    return are_traversals_same(left_preorder, left_inorder, left_postorder) and \\\n",
    "           are_traversals_same(right_preorder, right_inorder, right_postorder)\n",
    "\n",
    "\n",
    "# Test the implementation\n",
    "preorder = [1, 2, 4, 5, 3, 6, 7]\n",
    "inorder = [4, 2, 5, 1, 6, 3, 7]\n",
    "postorder = [4, 5, 2, 6, 7, 3, 1]\n",
    "\n",
    "if are_traversals_same(preorder, inorder, postorder):\n",
    "    print(\"The traversals represent the same tree.\")\n",
    "else:\n",
    "    print(\"The traversals do not represent the same tree.\")\n"
   ]
  }
 ],
 "metadata": {
  "kernelspec": {
   "display_name": "Python 3",
   "language": "python",
   "name": "python3"
  },
  "language_info": {
   "codemirror_mode": {
    "name": "ipython",
    "version": 3
   },
   "file_extension": ".py",
   "mimetype": "text/x-python",
   "name": "python",
   "nbconvert_exporter": "python",
   "pygments_lexer": "ipython3",
   "version": "3.11.1"
  },
  "orig_nbformat": 4
 },
 "nbformat": 4,
 "nbformat_minor": 2
}
